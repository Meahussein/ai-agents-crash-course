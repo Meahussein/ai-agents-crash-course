{
 "cells": [
  {
   "cell_type": "markdown",
   "id": "8032f8d3",
   "metadata": {},
   "source": [
    "agent = Agent(\n",
    "    name=\"Nutrition Assistant\",\n",
    "    instructions=\"\"\"\n",
    "    You are a helpful assistant giving out nutrition advice.\n",
    "    You give concise answers.\n",
    "    \"\"\",\n",
    ")\n",
    "\n",
    "with trace(\"Simple Nutrition Agent\"):\n",
    "    results = await asyncio.gather(\n",
    "        Runner.run(agent, \"How many calories are in a banana?\"),\n",
    "        Runner.run(agent, \"How many calories are in a apple?\"),\n",
    "    )\n",
    "\n",
    "print(\"\\n\".join([results.final_output for results in results]))\n"
   ]
  }
 ],
 "metadata": {
  "language_info": {
   "name": "python"
  }
 },
 "nbformat": 4,
 "nbformat_minor": 5
}
