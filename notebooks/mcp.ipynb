{
 "cells": [
  {
   "cell_type": "markdown",
   "id": "b35e6ed2",
   "metadata": {},
   "source": [
    "# "
   ]
  },
  {
   "cell_type": "code",
   "execution_count": 1,
   "id": "f92c9e77",
   "metadata": {},
   "outputs": [
    {
     "data": {
      "text/plain": [
       "True"
      ]
     },
     "execution_count": 1,
     "metadata": {},
     "output_type": "execute_result"
    }
   ],
   "source": [
    "import os\n",
    "import dotenv\n",
    "\n",
    "from agents import Agent, Runner, trace, function_tool\n",
    "from agents.mcp import MCPServerStreamableHttp\n",
    "\n",
    "import chromadb\n",
    "dotenv.load_dotenv()"
   ]
  },
  {
   "cell_type": "code",
   "execution_count": 2,
   "id": "b2fac606",
   "metadata": {},
   "outputs": [],
   "source": [
    "# This is the same code as in the rag.ipynb notebook\n",
    "\n",
    "chroma_client = chromadb.PersistentClient(path=\"../chroma\")\n",
    "nutrition_db = chroma_client.get_collection(name=\"nutrition_db\")\n",
    "\n",
    "@function_tool\n",
    "def calorie_lookup_tool(query: str, max_results: int = 3) -> str:\n",
    "    \"\"\"\n",
    "    Tool function for a RAG database to look up calorie information for specific food items, but not for meals.\n",
    "\n",
    "    Args:\n",
    "        query: The food item to look up.\n",
    "        max_results: The maximum number of results to return.\n",
    "\n",
    "    Returns:\n",
    "        A string containing the nutrition information.\n",
    "    \"\"\"\n",
    "\n",
    "    results = nutrition_db.query(\n",
    "        query_texts=[query],\n",
    "        n_results=max_results\n",
    "    )\n",
    "    \n",
    "    if not results['documents'][0]:\n",
    "        return f\"No nutrition information found for: {query}\"\n",
    "    \n",
    "    # Format results for the agent\n",
    "    formatted_results = []\n",
    "    for i, doc in enumerate(results['documents'][0]):\n",
    "        metadata = results['metadatas'][0][i]\n",
    "        food_item = metadata['food_item'].title()\n",
    "        calories = metadata['calories_per_100g']\n",
    "        category = metadata['food_category'].title()\n",
    "        \n",
    "        formatted_results.append(\n",
    "            f\"{food_item} ({category}): {calories} calories per 100g\"\n",
    "        )\n",
    "    \n",
    "    return \"Nutrition Information:\\n\" + \"\\n\".join(formatted_results)\n"
   ]
  },
  {
   "cell_type": "code",
   "execution_count": 33,
   "id": "b8446290",
   "metadata": {},
   "outputs": [],
   "source": [
    "exa_search_mcp = MCPServerStreamableHttp(\n",
    "        name=\"Exa Search MCP\",\n",
    "        params={\n",
    "            \"url\": f\"https://mcp.exa.ai/mcp?{os.environ.get(\"EXA_API_KEY\")}\",\n",
    "            \"timeout\": 30,\n",
    "        },\n",
    "        client_session_timeout_seconds=30,\n",
    "        cache_tools_list=True,\n",
    "        max_retry_attempts=1)\n",
    "\n",
    "await exa_search_mcp.connect()\n",
    "\n",
    "calorie_agent_with_search = Agent(\n",
    "    name=\"Nutrition Assistant\",\n",
    "    instructions=\"\"\"\n",
    "    * You are a helpful nutrition assistant giving out calorie information.\n",
    "    * You give concise answers.\n",
    "    * You follow this workflow:  \n",
    "        0) First, use the calorie_lookup_tool to get the calorie information of the ingredients. But only use the result if it's explicitly for the food requested in the query.\n",
    "        1) If you couldn't find the exact match for the food or you need to look up the ingredients, search the EXA web to figure out the exact ingredients of the meal.\n",
    "        Even if you have the calories in the web search response, you should still use the calorie_lookup_tool to get the calorie \n",
    "        information of the ingredients to make sure the information you provide is consistent.\n",
    "        2) Then, if necessary, use the calorie_lookup_tool to get the calorie information of the ingredients.\n",
    "    * Even if you know the recipe of the meal, always use Exa Search to find the exact recipe and ingredients. \n",
    "    * Once you know the ingredients, use the calorie_lookup_tool to get the calorie information of the individual ingredients.\n",
    "    * If the query is about the meal, in your final output give a list of ingredients with their quantities and calories for a single serving. Also display the total calories.\n",
    "    * Don't use the calorie_lookup_tool more than 10 times. \n",
    "    \"\"\",\n",
    "    tools=[       \n",
    "    calorie_lookup_tool],\n",
    "    mcp_servers=[exa_search_mcp]\n",
    ")\n"
   ]
  },
  {
   "cell_type": "markdown",
   "id": "9b5fe9e6",
   "metadata": {},
   "source": [
    "Reference query - shouldn't use ExaSearch"
   ]
  },
  {
   "cell_type": "code",
   "execution_count": 15,
   "id": "e9440d7e",
   "metadata": {},
   "outputs": [
    {
     "name": "stdout",
     "output_type": "stream",
     "text": [
      "RunResult:\n",
      "- Last agent: Agent(name=\"Nutrition Assistant\", ...)\n",
      "- Final output (str):\n",
      "    - Per 100 g: banana 89 kcal, apple 52 kcal → combined 141 kcal per 200 g total.\n",
      "    - Typical sizes (estimates):\n",
      "      - 1 medium banana (~118 g): ~105 kcal\n",
      "      - 1 medium apple (~182 g): ~95 kcal\n",
      "      - Total for 1 banana + 1 apple: ~200 kcal\n",
      "- 7 new item(s)\n",
      "- 2 raw response(s)\n",
      "- 0 input guardrail result(s)\n",
      "- 0 output guardrail result(s)\n",
      "(See `RunResult` for more details)\n"
     ]
    }
   ],
   "source": [
    "with trace(\"Nutrition Assistant with MCP - Only uses calorie_lookup_tool\"):\n",
    "    result = await Runner.run(calorie_agent_with_search, \"How many calories are in total in a banana and an apple? Also give calories per 100g\")\n",
    "    print(result)"
   ]
  },
  {
   "cell_type": "code",
   "execution_count": 34,
   "id": "9c1b3db5",
   "metadata": {},
   "outputs": [
    {
     "name": "stdout",
     "output_type": "stream",
     "text": [
      "Here’s a typical Full English Breakfast per serving (about 1 serving from a common recipe):\n",
      "\n",
      "- Baked beans: 1/2 cup (100 g) – ~94 kcal\n",
      "- Bacon (pork): 1 strip (30 g) – ~122 kcal\n",
      "- Butter: 1 tablespoon (14 g) – ~100 kcal\n",
      "- Cooking oil: 2 teaspoons (10 ml) – ~79 kcal\n",
      "- Sliced bread: 1 slice (35 g) – ~88 kcal\n",
      "- Pork sausage: 1 medium (60 g) – ~203 kcal\n",
      "- Egg: 2 large (100 g) – ~194 kcal\n",
      "\n",
      "Estimated total: ~880 kcal per serving (range ~850–990 kcal depending on brands/quantities).\n"
     ]
    }
   ],
   "source": [
    "with trace(\"Nutrition Assistant with MCP\"):\n",
    "    result = await Runner.run(calorie_agent_with_search, \"How many calories are in an english breakfast?\")\n",
    "    print(result.final_output)"
   ]
  },
  {
   "cell_type": "code",
   "execution_count": null,
   "id": "9b02939b",
   "metadata": {},
   "outputs": [],
   "source": [
    "exa_search_mcp.cleanup()"
   ]
  }
 ],
 "metadata": {
  "kernelspec": {
   "display_name": "Python 3",
   "language": "python",
   "name": "python3"
  },
  "language_info": {
   "codemirror_mode": {
    "name": "ipython",
    "version": 3
   },
   "file_extension": ".py",
   "mimetype": "text/x-python",
   "name": "python",
   "nbconvert_exporter": "python",
   "pygments_lexer": "ipython3",
   "version": "3.13.5"
  }
 },
 "nbformat": 4,
 "nbformat_minor": 5
}
