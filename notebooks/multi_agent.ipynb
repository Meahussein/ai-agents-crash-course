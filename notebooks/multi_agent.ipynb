{
 "cells": [
  {
   "cell_type": "markdown",
   "id": "b35e6ed2",
   "metadata": {},
   "source": [
    "# MCP"
   ]
  },
  {
   "cell_type": "code",
   "execution_count": 2,
   "id": "f92c9e77",
   "metadata": {},
   "outputs": [
    {
     "data": {
      "text/plain": [
       "True"
      ]
     },
     "execution_count": 2,
     "metadata": {},
     "output_type": "execute_result"
    }
   ],
   "source": [
    "import os\n",
    "import dotenv\n",
    "\n",
    "from agents import Agent, Runner, trace, function_tool, WebSearchTool\n",
    "from agents.mcp import MCPServerStreamableHttp\n",
    "\n",
    "import chromadb\n",
    "dotenv.load_dotenv()"
   ]
  },
  {
   "cell_type": "code",
   "execution_count": 3,
   "id": "b2fac606",
   "metadata": {},
   "outputs": [],
   "source": [
    "# This is the same code as in the rag.ipynb notebook\n",
    "\n",
    "chroma_client = chromadb.PersistentClient(path=\"../chroma\")\n",
    "nutrition_db = chroma_client.get_collection(name=\"nutrition_db\")\n",
    "\n",
    "@function_tool\n",
    "def calorie_lookup_tool(query: str, max_results: int = 3) -> str:\n",
    "    \"\"\"\n",
    "    Tool function for a RAG database to look up calorie information for specific food items, but not for meals.\n",
    "\n",
    "    Args:\n",
    "        query: The food item to look up.\n",
    "        max_results: The maximum number of results to return.\n",
    "\n",
    "    Returns:\n",
    "        A string containing the nutrition information.\n",
    "    \"\"\"\n",
    "\n",
    "    results = nutrition_db.query(\n",
    "        query_texts=[query],\n",
    "        n_results=max_results\n",
    "    )\n",
    "    \n",
    "    if not results['documents'][0]:\n",
    "        return f\"No nutrition information found for: {query}\"\n",
    "    \n",
    "    # Format results for the agent\n",
    "    formatted_results = []\n",
    "    for i, doc in enumerate(results['documents'][0]):\n",
    "        metadata = results['metadatas'][0][i]\n",
    "        food_item = metadata['food_item'].title()\n",
    "        calories = metadata['calories_per_100g']\n",
    "        category = metadata['food_category'].title()\n",
    "        \n",
    "        formatted_results.append(\n",
    "            f\"{food_item} ({category}): {calories} calories per 100g\"\n",
    "        )\n",
    "    \n",
    "    return \"Nutrition Information:\\n\" + \"\\n\".join(formatted_results)\n"
   ]
  },
  {
   "cell_type": "markdown",
   "id": "af7ae56a",
   "metadata": {},
   "source": [
    "Let's integrate EXA Search as an MCP"
   ]
  },
  {
   "cell_type": "code",
   "execution_count": 4,
   "id": "b8446290",
   "metadata": {},
   "outputs": [],
   "source": [
    "exa_search_mcp = MCPServerStreamableHttp(\n",
    "        name=\"Exa Search MCP\",\n",
    "        params={\n",
    "            \"url\": f\"https://mcp.exa.ai/mcp?{os.environ.get(\"EXA_API_KEY\")}\",\n",
    "            \"timeout\": 30,\n",
    "        },\n",
    "        client_session_timeout_seconds=30,\n",
    "        cache_tools_list=True,\n",
    "        max_retry_attempts=1)\n",
    "\n",
    "await exa_search_mcp.connect()\n",
    "\n",
    "calorie_agent_with_search = Agent(\n",
    "    name=\"Nutrition Assistant\",\n",
    "    instructions=\"\"\"\n",
    "    * You are a helpful nutrition assistant giving out calorie information.\n",
    "    * You give concise answers.\n",
    "    * You follow this workflow:  \n",
    "        0) First, use the calorie_lookup_tool to get the calorie information of the ingredients. But only use the result if it's explicitly for the food requested in the query.\n",
    "        1) If you couldn't find the exact match for the food or you need to look up the ingredients, search the EXA web to figure out the exact ingredients of the meal.\n",
    "        Even if you have the calories in the web search response, you should still use the calorie_lookup_tool to get the calorie \n",
    "        information of the ingredients to make sure the information you provide is consistent.\n",
    "        2) Then, if necessary, use the calorie_lookup_tool to get the calorie information of the ingredients.\n",
    "    * Even if you know the recipe of the meal, always use Exa Search to find the exact recipe and ingredients. \n",
    "    * Once you know the ingredients, use the calorie_lookup_tool to get the calorie information of the individual ingredients.\n",
    "    * If the query is about the meal, in your final output give a list of ingredients with their quantities and calories for a single serving. Also display the total calories.\n",
    "    * Don't use the calorie_lookup_tool more than 10 times. \n",
    "    \"\"\",\n",
    "    tools=[       \n",
    "    calorie_lookup_tool],\n",
    "    mcp_servers=[exa_search_mcp]\n",
    ")\n"
   ]
  },
  {
   "cell_type": "code",
   "execution_count": 11,
   "id": "a48ffbe0",
   "metadata": {},
   "outputs": [],
   "source": [
    "healthy_breakfast_planner_agent = Agent(\n",
    "    name=\"Breakfast Planner Assistant\",\n",
    "    instructions=\"\"\"\n",
    "    * You are a helpful assistant that helps with healthy breakfast choices.\n",
    "    * You give concise answers.\n",
    "    Given the user's preferences prompt, come up with different breakfast meals that are healthy and fit for a busy person.\n",
    "    * Explicitly mention the meal's names in your response along with a sentence of why this is a healthy choice.\n",
    "    \"\"\"\n",
    ")\n"
   ]
  },
  {
   "cell_type": "code",
   "execution_count": 20,
   "id": "e9440d7e",
   "metadata": {},
   "outputs": [],
   "source": [
    "calorie_calculator_tool = calorie_agent_with_search.as_tool(tool_name=\"calorie-calculator\", tool_description=\"Use this tool to calculate the calories of a meal and it's ingredients\")\n",
    "breakfast_planner_tool = healthy_breakfast_planner_agent.as_tool(tool_name=\"breakfast-planner\", tool_description=\"Use this tool to plan a a number of healthy breakfast options\")\n",
    "\n",
    "breakfast_price_checker_agent = Agent(\n",
    "    name=\"Breakfast Recommendation Assistant\",\n",
    "    instructions=\"\"\"\n",
    "    * You are a helpful assistant that takes multiple breakfast items (with ingredients and calories) and checks for the price of the ingredients.\n",
    "    * Use the we search tool to get an approximate price for the ingredients. \n",
    "    * In your final output prove the meal name, ingredients with calories and price for each meal.\n",
    "    * Use markdown and be as concise as possible.\n",
    "    \"\"\",\n",
    "    tools=[WebSearchTool()])\n",
    "\n",
    "breakfast_advisor = Agent(\n",
    "    name=\"Breakfast Advisor\",\n",
    "    instructions=\"\"\"\n",
    "    * You are a breakfast advisor. You come up with meal plans for the user based on their preferences. \n",
    "    * You also calculate the calories for the meal and its ingredients.\n",
    "    * Based on the breakfast meals and the calories that you get from upstream agents, \n",
    "    * Create a meal plan for the user. For each meal, give a name, the ingredients, and the calories\n",
    "\n",
    "    Follow this workflow carefully:\n",
    "    1) Use the breakfast_planner_tool to plan a a number of healthy breakfast options.\n",
    "    2) Use the calorie_calculator_tool to calculate the calories for the meal and its ingredients.\n",
    "    3) Handoff the breakfast meals and the calories to the breakfast_price_checker_agent to check the price of the ingredients.\n",
    "\n",
    "    \"\"\",\n",
    "    tools=[breakfast_planner_tool, calorie_calculator_tool],\n",
    "    handoff_description=\"\"\"\n",
    "    Create a concise breakfast recommendation based on the user's preferences and add the prices. Use Markdown format.\n",
    "    \"\"\",\n",
    "    handoffs=[breakfast_price_checker_agent],\n",
    "    )\n"
   ]
  },
  {
   "cell_type": "code",
   "execution_count": 21,
   "id": "ac48ec51",
   "metadata": {},
   "outputs": [
    {
     "name": "stdout",
     "output_type": "stream",
     "text": [
      "Here are two healthy, quick options based on oatmeal and eggs.\n",
      "\n",
      "1) Oatmeal-Egg Muffin Cups\n",
      "- Ingredients (2 muffins): 1/2 cup rolled oats (40 g); 2 large eggs; 1/4 cup bell peppers; 1/4 cup spinach; 1 Tbsp shredded low-fat cheese; salt/pepper.\n",
      "- Approx. calories per serving: ~271 kcal.\n",
      "- Estimated price per meal (US, using typical store prices):\n",
      "  - Oats: ~0.08 USD\n",
      "  - Eggs (2): ~0.60 USD\n",
      "  - Bell pepper: ~0.79 USD\n",
      "  - Spinach: ~0.23 USD\n",
      "  - Cheese (1 Tbsp): ~0.26 USD\n",
      "  - Total: ~1.96 USD. Sources: oats key price (bulk 50 lb bag ~ $35.99, ≈ $0.72/lb), eggs (~$3.62 per dozen), spinach bag (~$2.28), bell pepper (~$0.79–$1.49 per pepper), shredded cheese (~$4.99–$5.23 per 7–8 oz). ([webstaurantstore.com](https://www.webstaurantstore.com/50-lb-bag-regular-rolled-oats/104NOA1150.html?utm_source=openai))\n",
      "\n",
      "2) Savory Oatmeal with Egg Topping\n",
      "- Ingredients: 1/2 cup rolled oats (40 g); 1 large egg; 1/2 cup sautéed mushrooms and spinach (water sauté); salt/pepper.\n",
      "- Approx. calories per serving: ~240 kcal.\n",
      "- Estimated price per meal:\n",
      "  - Oats: ~0.36 USD (½ cup dry, portioned from bulk price)\n",
      "  - Egg: ~0.30–0.60 USD (depends on brand; see eggs)\n",
      "  - Mushrooms: ~0.40–0.60 USD for 1/2 cup\n",
      "  - Spinach: ~0.23 USD (½ cup sautéed)\n",
      "  - Total: ~1.30–2.10 USD. Sources: oats bulk pricing; eggs pricing; mushroom and spinach pricing as above. ([webstaurantstore.com](https://www.webstaurantstore.com/50-lb-bag-regular-rolled-oats/104NOA1150.html?utm_source=openai))\n",
      "\n",
      "Would you like me to lock these in as a weekly plan or tailor ingredients to your local store prices?\n"
     ]
    }
   ],
   "source": [
    "with trace(\"Multi-Agent Breakfast Advisor\"):\n",
    "    result = await Runner.run(breakfast_advisor, \"I'm a busy person and I want to eat healthy breakfasts. I like to eat oatmeal and eggs. What is a healthy breakfast for me? Give me two options.\")\n",
    "    print(result.final_output)\n"
   ]
  },
  {
   "cell_type": "code",
   "execution_count": null,
   "id": "76627939",
   "metadata": {},
   "outputs": [
    {
     "name": "stdout",
     "output_type": "stream",
     "text": [
      "Here are 4 healthy breakfast options centered on oatmeal and eggs, with approximate calories and core ingredients.\n",
      "\n",
      "1) Savory Spinach & Mushroom Oatmeal Bowl with Fried Egg\n",
      "- Core ingredients: 1/2 cup dry oats (42 g), 1 large egg fried in 1 tsp olive oil, 1 cup spinach, 1/4 cup mushrooms, salt, pepper\n",
      "- Estimated calories: ~254 kcal\n",
      "\n",
      "2) Sweet Berry Banana Overnight Oatmeal with Soft-Boiled Egg on the Side\n",
      "- Core ingredients: 1/2 cup rolled oats, 1/2 cup milk or yogurt, 1/2 cup berries, 1 small banana, 1 hard-boiled egg\n",
      "- Estimated calories: ~456 kcal\n",
      "\n",
      "3) Oatmeal Egg Muffins (Savory Veggie Oat Muffins)\n",
      "- Core ingredients: 1 cup rolled oats, 2 eggs, 1/2 cup diced vegetables (bell pepper, spinach), 1/4 cup shredded cheese\n",
      "- Estimated calories: ~468 kcal per serving (recipe can be divided into multiple muffins)\n",
      "\n",
      "4) Quick Oatmeal & Egg Scramble Jar\n",
      "- Core ingredients: 1/2 cup oats, 2 eggs, 1/2 cup milk, 1/2 cup diced tomatoes, spices\n",
      "- Estimated calories: ~435 kcal\n",
      "\n",
      "Tips\n",
      "- You can tailor calories up or down by adjusting oat amounts, dairy choices, or oil used for cooking.\n",
      "- Add fruit or greens for extra fiber and micronutrients without large calorie changes.\n",
      "\n",
      "Would you like me to tailor a 7-day breakfast plan around these options to fit a specific daily calorie target?\n"
     ]
    }
   ],
   "source": []
  }
 ],
 "metadata": {
  "kernelspec": {
   "display_name": "Python 3",
   "language": "python",
   "name": "python3"
  },
  "language_info": {
   "codemirror_mode": {
    "name": "ipython",
    "version": 3
   },
   "file_extension": ".py",
   "mimetype": "text/x-python",
   "name": "python",
   "nbconvert_exporter": "python",
   "pygments_lexer": "ipython3",
   "version": "3.13.5"
  }
 },
 "nbformat": 4,
 "nbformat_minor": 5
}
