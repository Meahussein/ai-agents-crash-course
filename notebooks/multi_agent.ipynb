{
 "cells": [
  {
   "cell_type": "markdown",
   "id": "b35e6ed2",
   "metadata": {},
   "source": [
    "# Multi Agent"
   ]
  },
  {
   "cell_type": "code",
   "execution_count": 2,
   "id": "f92c9e77",
   "metadata": {},
   "outputs": [
    {
     "data": {
      "text/plain": [
       "True"
      ]
     },
     "execution_count": 2,
     "metadata": {},
     "output_type": "execute_result"
    }
   ],
   "source": [
    "import os\n",
    "\n",
    "import chromadb\n",
    "import dotenv\n",
    "from agents import Agent, Runner, WebSearchTool, function_tool, trace\n",
    "from agents.mcp import MCPServerStreamableHttp\n",
    "\n",
    "dotenv.load_dotenv()"
   ]
  },
  {
   "cell_type": "markdown",
   "id": "b8e7273c",
   "metadata": {},
   "source": [
    "Let's set up our RAG database connection:"
   ]
  },
  {
   "cell_type": "code",
   "execution_count": 3,
   "id": "faa69eb8",
   "metadata": {},
   "outputs": [],
   "source": [
    "chroma_client = chromadb.PersistentClient(path=\"../chroma\")\n",
    "nutrition_db = chroma_client.get_collection(name=\"nutrition_db\")"
   ]
  },
  {
   "cell_type": "code",
   "execution_count": 4,
   "id": "b2fac606",
   "metadata": {},
   "outputs": [],
   "source": [
    "# This is the same code as in the rag.ipynb notebook\n",
    "\n",
    "\n",
    "@function_tool\n",
    "def calorie_lookup_tool(query: str, max_results: int = 3) -> str:\n",
    "    \"\"\"\n",
    "    Tool function for a RAG database to look up calorie information for specific food items, but not for meals.\n",
    "\n",
    "    Args:\n",
    "        query: The food item to look up.\n",
    "        max_results: The maximum number of results to return.\n",
    "\n",
    "    Returns:\n",
    "        A string containing the nutrition information.\n",
    "    \"\"\"\n",
    "\n",
    "    results = nutrition_db.query(query_texts=[query], n_results=max_results)\n",
    "\n",
    "    if not results[\"documents\"][0]:\n",
    "        return f\"No nutrition information found for: {query}\"\n",
    "\n",
    "    # Format results for the agent\n",
    "    formatted_results = []\n",
    "    for i, doc in enumerate(results[\"documents\"][0]):\n",
    "        metadata = results[\"metadatas\"][0][i]\n",
    "        food_item = metadata[\"food_item\"].title()\n",
    "        calories = metadata[\"calories_per_100g\"]\n",
    "        category = metadata[\"food_category\"].title()\n",
    "\n",
    "        formatted_results.append(\n",
    "            f\"{food_item} ({category}): {calories} calories per 100g\"\n",
    "        )\n",
    "\n",
    "    return \"Nutrition Information:\\n\" + \"\\n\".join(formatted_results)"
   ]
  },
  {
   "cell_type": "markdown",
   "id": "af7ae56a",
   "metadata": {},
   "source": [
    "Also add EXA Search as an MCP"
   ]
  },
  {
   "cell_type": "code",
   "execution_count": 5,
   "id": "b8446290",
   "metadata": {},
   "outputs": [],
   "source": [
    "exa_search_mcp = MCPServerStreamableHttp(\n",
    "    name=\"Exa Search MCP\",\n",
    "    params={\n",
    "        \"url\": f\"https://mcp.exa.ai/mcp?{os.environ.get(\"EXA_API_KEY\")}\",\n",
    "        \"timeout\": 30,\n",
    "    },\n",
    "    client_session_timeout_seconds=30,\n",
    "    cache_tools_list=True,\n",
    "    max_retry_attempts=1,\n",
    ")\n",
    "\n",
    "await exa_search_mcp.connect()"
   ]
  },
  {
   "cell_type": "markdown",
   "id": "2fe7cebc",
   "metadata": {},
   "source": [
    "1st Agent: Our \"Calorie Agent\""
   ]
  },
  {
   "cell_type": "code",
   "execution_count": 8,
   "id": "859e2816",
   "metadata": {},
   "outputs": [],
   "source": [
    "calorie_agent_with_search = Agent(\n",
    "    name=\"Nutrition Assistant\",\n",
    "    instructions=\"\"\"\n",
    "    * You are a helpful nutrition assistant giving out calorie information.\n",
    "    * You give concise answers.\n",
    "    * You follow this workflow:\n",
    "        0) First, use the calorie_lookup_tool to get the calorie information of the ingredients. But only use the result if it's explicitly for the food requested in the query.\n",
    "        1) If you couldn't find the exact match for the food or you need to look up the ingredients, search the EXA web to figure out the exact ingredients of the meal.\n",
    "        Even if you have the calories in the web search response, you should still use the calorie_lookup_tool to get the calorie\n",
    "        information of the ingredients to make sure the information you provide is consistent.\n",
    "        2) Then, if necessary, use the calorie_lookup_tool to get the calorie information of the ingredients.\n",
    "    * Even if you know the recipe of the meal, always use Exa Search to find the exact recipe and ingredients.\n",
    "    * Once you know the ingredients, use the calorie_lookup_tool to get the calorie information of the individual ingredients.\n",
    "    * If the query is about the meal, in your final output give a list of ingredients with their quantities and calories for a single serving. Also display the total calories.\n",
    "    * Don't use the calorie_lookup_tool more than 10 times.\n",
    "    \"\"\",\n",
    "    tools=[calorie_lookup_tool],\n",
    "    mcp_servers=[exa_search_mcp],\n",
    ")"
   ]
  },
  {
   "cell_type": "markdown",
   "id": "fd282eff",
   "metadata": {},
   "source": [
    "2nd Agent: Our Healthy Breakfast Plan Advisor"
   ]
  },
  {
   "cell_type": "code",
   "execution_count": 9,
   "id": "a48ffbe0",
   "metadata": {},
   "outputs": [],
   "source": [
    "healthy_breakfast_planner_agent = Agent(\n",
    "    name=\"Breakfast Planner Assistant\",\n",
    "    instructions=\"\"\"\n",
    "    * You are a helpful assistant that helps with healthy breakfast choices.\n",
    "    * You give concise answers.\n",
    "    Given the user's preferences prompt, come up with different breakfast meals that are healthy and fit for a busy person.\n",
    "    * Explicitly mention the meal's names in your response along with a sentence of why this is a healthy choice.\n",
    "    \"\"\",\n",
    ")"
   ]
  },
  {
   "cell_type": "markdown",
   "id": "93373edf",
   "metadata": {},
   "source": [
    "Let's convert our two agents into tools and add:\n",
    "\n",
    " * A 3rd Agent for checking the breakfast's price\n",
    " * A 4th Agent that glues everything together"
   ]
  },
  {
   "cell_type": "code",
   "execution_count": 13,
   "id": "e9440d7e",
   "metadata": {},
   "outputs": [],
   "source": [
    "calorie_calculator_tool = calorie_agent_with_search.as_tool(\n",
    "    tool_name=\"calorie-calculator\",\n",
    "    tool_description=\"Use this tool to calculate the calories of a meal and it's ingredients\",\n",
    ")\n",
    "\n",
    "breakfast_planner_tool = healthy_breakfast_planner_agent.as_tool(\n",
    "    tool_name=\"breakfast-planner\",\n",
    "    tool_description=\"Use this tool to plan a a number of healthy breakfast options\",\n",
    ")\n",
    "\n",
    "breakfast_price_checker_agent = Agent(\n",
    "    name=\"Breakfast Price Checker Assistant\",\n",
    "    instructions=\"\"\"\n",
    "    * You are a helpful assistant that takes multiple breakfast items (with ingredients and calories) and checks for the price of the ingredients.\n",
    "    * Use the we search tool to get an approximate price for the ingredients.\n",
    "    * In your final output prove the meal name, ingredients with calories and price for each meal.\n",
    "    * Use markdown and be as concise as possible.\n",
    "    \"\"\",\n",
    "    tools=[WebSearchTool()],\n",
    ")\n",
    "\n",
    "breakfast_advisor = Agent(\n",
    "    name=\"Breakfast Advisor\",\n",
    "    instructions=\"\"\"\n",
    "    * You are a breakfast advisor. You come up with meal plans for the user based on their preferences.\n",
    "    * You also calculate the calories for the meal and its ingredients.\n",
    "    * Based on the breakfast meals and the calories that you get from upstream agents,\n",
    "    * Create a meal plan for the user. For each meal, give a name, the ingredients, and the calories\n",
    "\n",
    "    Follow this workflow carefully:\n",
    "    1) Use the breakfast_planner_tool to plan a a number of healthy breakfast options.\n",
    "    2) Use the calorie_calculator_tool to calculate the calories for the meal and its ingredients.\n",
    "    3) Handoff the breakfast meals and the calories to the Use the Breakfast Price Checker Assistant to add the prices in the last step.\n",
    "\n",
    "    \"\"\",\n",
    "    tools=[breakfast_planner_tool, calorie_calculator_tool],\n",
    "    handoff_description=\"\"\"\n",
    "    Create a concise breakfast recommendation based on the user's preferences. Use Markdown format.\n",
    "    \"\"\",\n",
    "    handoffs=[breakfast_price_checker_agent],\n",
    ")"
   ]
  },
  {
   "cell_type": "code",
   "execution_count": 14,
   "id": "ac48ec51",
   "metadata": {},
   "outputs": [
    {
     "name": "stdout",
     "output_type": "stream",
     "text": [
      "Here are two healthy breakfast options using oatmeal and eggs, with ingredients, calories, and approximate prices in the United States.\n",
      "\n",
      "Option 1: Oatmeal Power Bowl with Eggs\n",
      "- Ingredients and calories\n",
      "  - Rolled oats, 1/2 cup (40 g) — 154 kcal — approx $0.35\n",
      "  - Eggs, 2 large — 97 kcal — approx $0.40\n",
      "  - Blueberries, 1/2 cup (74 g) — 42 kcal — approx $0.60\n",
      "  - Honey, 1 tsp (optional) — 21 kcal — approx $0.10\n",
      "- Totals\n",
      "  - Calories: 293 kcal (without honey) / 314 kcal (with honey)\n",
      "  - Approx price: $0.35 + $0.40 + $0.60 + (optional $0.10) = $1.35–$1.45\n",
      "\n",
      "Option 2: Savory Egg & Oat Pancake Cups\n",
      "- Ingredients and calories\n",
      "  - Rolled oats, 1/2 cup (40 g) ground into flour — 154 kcal — approx $0.35\n",
      "  - Eggs, 2 large — 97 kcal — approx $0.40\n",
      "  - Spinach, cooked, 1 cup — 41 kcal — approx $0.50\n",
      "  - Feta cheese, 1/4 cup (42 g) — 111 kcal — approx $0.75\n",
      "  - Olive oil, 1 tsp — 40 kcal — approx $0.08\n",
      "- Totals\n",
      "  - Calories: ~441 kcal\n",
      "  - Approx price: $0.35 + $0.40 + $0.50 + $0.75 + $0.08 = $2.08\n",
      "\n",
      "Want me to tailor prices to your exact location or store (e.g., using your favorite grocer and current promos)?\n"
     ]
    }
   ],
   "source": [
    "with trace(\"Multi Agent: Breakfast Advisor\"):\n",
    "    result = await Runner.run(\n",
    "        breakfast_advisor,\n",
    "        \"I'm a busy person and I want to eat healthy breakfasts. I like to eat oatmeal and eggs. What is a healthy breakfast for me? Give me two options.\",\n",
    "    )\n",
    "    print(result.final_output)"
   ]
  }
 ],
 "metadata": {
  "kernelspec": {
   "display_name": "Python 3",
   "language": "python",
   "name": "python3"
  },
  "language_info": {
   "codemirror_mode": {
    "name": "ipython",
    "version": 3
   },
   "file_extension": ".py",
   "mimetype": "text/x-python",
   "name": "python",
   "nbconvert_exporter": "python",
   "pygments_lexer": "ipython3",
   "version": "3.13.5"
  }
 },
 "nbformat": 4,
 "nbformat_minor": 5
}
