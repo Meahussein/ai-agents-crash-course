{
 "cells": [
  {
   "cell_type": "markdown",
   "id": "9bb0ee48",
   "metadata": {},
   "source": [
    "# Creating a Simple Agent with Tracing"
   ]
  },
  {
   "cell_type": "code",
   "execution_count": 7,
   "id": "dced13ed",
   "metadata": {},
   "outputs": [
    {
     "name": "stdout",
     "output_type": "stream",
     "text": [
      "We are up and running!\n"
     ]
    }
   ],
   "source": [
    "import dotenv\n",
    "import os \n",
    "\n",
    "from openai import OpenAI\n",
    "\n",
    "dotenv.load_dotenv()\n",
    "\n",
    "if not os.environ.get(\"OPENAI_API_KEY\"):\n",
    "    print(\"\"\"Error: OPENAI_API_KEY environment variable not set. Please copy the .env.template file as .env and fill it in.\n",
    "    \n",
    "    You can execute these commands in the terminal to get started:\n",
    "    cp .env.template .env\n",
    "    code .env\n",
    "    \"\"\")\n",
    "\n",
    "# Test OpenAI Access\n",
    "print(OpenAI().responses.create(\n",
    "    model=os.environ[\"OPENAI_DEFAULT_MODEL\"],\n",
    "    input='Say: We are up and running!').output_text)\n",
    "\n"
   ]
  },
  {
   "cell_type": "code",
   "execution_count": 8,
   "id": "afcbf0e1",
   "metadata": {},
   "outputs": [],
   "source": [
    "from agents import Agent, Runner, trace\n",
    "from openai.types.responses import ResponseTextDeltaEvent\n"
   ]
  },
  {
   "cell_type": "markdown",
   "id": "648facaa",
   "metadata": {},
   "source": [
    "Create a simple Nutrition Assistant Agent"
   ]
  },
  {
   "cell_type": "code",
   "execution_count": 9,
   "id": "5e542d69",
   "metadata": {},
   "outputs": [],
   "source": [
    "nutrition_agent = Agent(\n",
    "    name=\"Nutrition Assistant\",\n",
    "    instructions=\"\"\"\n",
    "    You are a helpful assistant giving out nutrition advice.\n",
    "    You give concise answers.\n",
    "    \"\"\",\n",
    ")"
   ]
  },
  {
   "cell_type": "markdown",
   "id": "8d30b1b1",
   "metadata": {},
   "source": [
    "Let's execute the Agent:"
   ]
  },
  {
   "cell_type": "code",
   "execution_count": 10,
   "id": "1ede6dc3",
   "metadata": {},
   "outputs": [
    {
     "name": "stdout",
     "output_type": "stream",
     "text": [
      "RunResult:\n",
      "- Last agent: Agent(name=\"Nutrition Assistant\", ...)\n",
      "- Final output (str):\n",
      "    Overall, yes—bananas are a healthy, convenient fruit.\n",
      "    \n",
      "    Key positives:\n",
      "    - Potassium-rich (supports blood pressure and heart health)\n",
      "    - Good vitamin B6 and vitamin C sources\n",
      "    - Dietary fiber (helps digestion) and resistant starch when underripe\n",
      "    - Easy, portable, affordable\n",
      "    \n",
      "    Considerations:\n",
      "    - Moderate calories and natural sugars (about 14 g sugar per medium banana)\n",
      "    - If you have kidney disease or need to limit potassium, check with a clinician\n",
      "    \n",
      "    Typical nutrition for a medium banana (~118 g):\n",
      "    - Calories: ~105\n",
      "    - Carbs: ~27 g (fiber ~3 g, sugar ~14 g)\n",
      "    - Potassium: ~422 mg\n",
      "    - Vitamin B6 and vitamin C present\n",
      "    \n",
      "    If you want, I can tailor advice to your goals (weight loss, muscle gain, blood pressure, or kidney health).\n",
      "- 2 new item(s)\n",
      "- 1 raw response(s)\n",
      "- 0 input guardrail result(s)\n",
      "- 0 output guardrail result(s)\n",
      "(See `RunResult` for more details)\n"
     ]
    }
   ],
   "source": [
    "with trace(\"Simple Nutrition Agent\"):\n",
    "    result = await Runner.run(nutrition_agent, \"How healthy are bananas?\")\n",
    "\n",
    "print(result)"
   ]
  },
  {
   "cell_type": "markdown",
   "id": "eee3194d",
   "metadata": {},
   "source": [
    "Streaming the answer to the screen, token by token"
   ]
  },
  {
   "cell_type": "code",
   "execution_count": 12,
   "id": "fa70122b",
   "metadata": {},
   "outputs": [
    {
     "name": "stdout",
     "output_type": "stream",
     "text": [
      "Bananas are generally healthy and nutrient-dense.\n",
      "\n",
      "- Good stuff: potassium, vitamin B6, vitamin C, fiber, and resistant starch (especially when slightly underripe).\n",
      "- Benefits: supports blood pressure, digestion, energy, and gut health.\n",
      "- Considerations: moderate sugar content; portion if you’re watching blood sugar or calories.\n",
      "- Quick tip: 1 medium banana (~118 g) is a common healthy portion.\n",
      "\n",
      "Want a quick plan (e.g., pre/post workout or diabetes-friendly) tailored to you?"
     ]
    }
   ],
   "source": [
    "response_stream = Runner.run_streamed(\n",
    "    nutrition_agent, \"How healthy are bananas?\")\n",
    "\n",
    "async for event in response_stream.stream_events():\n",
    "    if event.type == \"raw_response_event\" and isinstance(\n",
    "        event.data, ResponseTextDeltaEvent\n",
    "    ):\n",
    "        print(event.data.delta, end=\"\", flush=True)"
   ]
  },
  {
   "cell_type": "markdown",
   "id": "d5ab1047",
   "metadata": {},
   "source": [
    "_Good Job!_"
   ]
  },
  {
   "cell_type": "markdown",
   "id": "75e7c0c8",
   "metadata": {},
   "source": []
  }
 ],
 "metadata": {
  "kernelspec": {
   "display_name": "Python 3",
   "language": "python",
   "name": "python3"
  },
  "language_info": {
   "codemirror_mode": {
    "name": "ipython",
    "version": 3
   },
   "file_extension": ".py",
   "mimetype": "text/x-python",
   "name": "python",
   "nbconvert_exporter": "python",
   "pygments_lexer": "ipython3",
   "version": "3.13.5"
  }
 },
 "nbformat": 4,
 "nbformat_minor": 5
}
