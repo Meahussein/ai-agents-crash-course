{
 "cells": [
  {
   "cell_type": "markdown",
   "id": "9bb0ee48",
   "metadata": {},
   "source": [
    "# Creating a Simple Agent with Tracing"
   ]
  },
  {
   "cell_type": "code",
   "execution_count": null,
   "id": "dced13ed",
   "metadata": {},
   "outputs": [
    {
     "data": {
      "text/plain": [
       "True"
      ]
     },
     "execution_count": 34,
     "metadata": {},
     "output_type": "execute_result"
    }
   ],
   "source": [
    "import dotenv\n",
    "from agents import Agent, Runner, trace\n",
    "from openai.types.responses import ResponseTextDeltaEvent\n",
    "\n",
    "dotenv.load_dotenv()"
   ]
  },
  {
   "cell_type": "markdown",
   "id": "648facaa",
   "metadata": {},
   "source": [
    "Create a simple Nutrition Assistant Agent"
   ]
  },
  {
   "cell_type": "code",
   "execution_count": null,
   "id": "5e542d69",
   "metadata": {},
   "outputs": [],
   "source": [
    "nutrition_agent = Agent(\n",
    "    name=\"Nutrition Assistant\",\n",
    "    instructions=\"\"\"\n",
    "    You are a helpful assistant giving out nutrition advice.\n",
    "    You give concise answers.\n",
    "    \"\"\",\n",
    ")"
   ]
  },
  {
   "cell_type": "markdown",
   "id": "8d30b1b1",
   "metadata": {},
   "source": [
    "Let's execute the Agent:"
   ]
  },
  {
   "cell_type": "code",
   "execution_count": null,
   "id": "1ede6dc3",
   "metadata": {},
   "outputs": [
    {
     "name": "stdout",
     "output_type": "stream",
     "text": [
      "RunResult:\n",
      "- Last agent: Agent(name=\"Nutrition Assistant\", ...)\n",
      "- Final output (str):\n",
      "    Bananas are a healthy, convenient fruit.\n",
      "    \n",
      "    Key points:\n",
      "    - Nutrients: potassium, vitamin C, vitamin B6, fiber, and near-zero fat.\n",
      "    - Benefits: supports heart health, digestion, and energy from natural sugars.\n",
      "    - Considerations: about 100–120 kcal per medium banana; ripeness affects sugar (ripe has more sugar; greener has more resistant starch).\n",
      "    - When to watch: portion size if you have diabetes or kidney disease; pair with protein/fat for better satiety.\n",
      "    \n",
      "    Bottom line: a nutritious, portable fruit for most people in moderate portions.\n",
      "- 2 new item(s)\n",
      "- 1 raw response(s)\n",
      "- 0 input guardrail result(s)\n",
      "- 0 output guardrail result(s)\n",
      "(See `RunResult` for more details)\n"
     ]
    }
   ],
   "source": [
    "with trace(\"Simple Nutrition Agent\"):\n",
    "    result = await Runner.run(nutrition_agent, \"How healthy are bananas?\")\n",
    "\n",
    "print(result)"
   ]
  },
  {
   "cell_type": "markdown",
   "id": "eee3194d",
   "metadata": {},
   "source": [
    "Streaming the answer to the screen, token by token"
   ]
  },
  {
   "cell_type": "code",
   "execution_count": null,
   "id": "fa70122b",
   "metadata": {},
   "outputs": [
    {
     "name": "stdout",
     "output_type": "stream",
     "text": [
      "Bananas are generally very healthy as part of a balanced diet.\n",
      "\n",
      "Key benefits:\n",
      "- Good source of potassium (heart/nerve function), vitamin B6, vitamin C, and fiber.\n",
      "- Quick-acting carbohydrate for athletes or quick energy.\n",
      "- Contain resistant starch when less ripe (may help with gut health).\n",
      "\n",
      "Things to consider:\n",
      "- Moderate in calories and natural sugars; balance with other foods.\n",
      "- Diabetics should monitor portion size and total carbs.\n",
      "- Not a complete protein or a fiber substitute for other vegetables/fruits.\n",
      "\n",
      "Typical: a medium banana (~105 calories, ~27 g carbs, ~3 g fiber, ~14 g sugar, ~400+ mg potassium).\n",
      "\n",
      "Want a personalized note (e.g., for workouts, diabetes, or weight loss)?"
     ]
    }
   ],
   "source": [
    "response_stream = Runner.run_streamed(\n",
    "    nutrition_agent, \"How healthy are bananas?\")\n",
    "async for event in response_stream.stream_events():\n",
    "    if event.type == \"raw_response_event\" and isinstance(\n",
    "        event.data, ResponseTextDeltaEvent\n",
    "    ):\n",
    "        print(event.data.delta, end=\"\", flush=True)"
   ]
  },
  {
   "cell_type": "code",
   "execution_count": null,
   "id": "bbd02100",
   "metadata": {},
   "outputs": [],
   "source": []
  }
 ],
 "metadata": {
  "kernelspec": {
   "display_name": "Python 3",
   "language": "python",
   "name": "python3"
  },
  "language_info": {
   "codemirror_mode": {
    "name": "ipython",
    "version": 3
   },
   "file_extension": ".py",
   "mimetype": "text/x-python",
   "name": "python",
   "nbconvert_exporter": "python",
   "pygments_lexer": "ipython3",
   "version": "3.13.5"
  }
 },
 "nbformat": 4,
 "nbformat_minor": 5
}
