{
 "cells": [
  {
   "cell_type": "code",
   "execution_count": 1,
   "id": "03c53c35",
   "metadata": {},
   "outputs": [
    {
     "ename": "RuntimeError",
     "evalue": "\u001b[91mYour system has an unsupported version of sqlite3. Chroma                     requires sqlite3 >= 3.35.0.\u001b[0m\n\u001b[94mPlease visit                     https://docs.trychroma.com/troubleshooting#sqlite to learn how                     to upgrade.\u001b[0m",
     "output_type": "error",
     "traceback": [
      "\u001b[31m---------------------------------------------------------------------------\u001b[39m",
      "\u001b[31mRuntimeError\u001b[39m                              Traceback (most recent call last)",
      "\u001b[36mCell\u001b[39m\u001b[36m \u001b[39m\u001b[32mIn[1]\u001b[39m\u001b[32m, line 2\u001b[39m\n\u001b[32m      1\u001b[39m \u001b[38;5;28;01mimport\u001b[39;00m\u001b[38;5;250m \u001b[39m\u001b[34;01mpandas\u001b[39;00m\u001b[38;5;250m \u001b[39m\u001b[38;5;28;01mas\u001b[39;00m\u001b[38;5;250m \u001b[39m\u001b[34;01mpd\u001b[39;00m\n\u001b[32m----> \u001b[39m\u001b[32m2\u001b[39m \u001b[38;5;28;01mimport\u001b[39;00m\u001b[38;5;250m \u001b[39m\u001b[34;01mchromadb\u001b[39;00m\n\u001b[32m      3\u001b[39m \u001b[38;5;28;01mfrom\u001b[39;00m\u001b[38;5;250m \u001b[39m\u001b[34;01mtyping\u001b[39;00m\u001b[38;5;250m \u001b[39m\u001b[38;5;28;01mimport\u001b[39;00m List, Dict\n\u001b[32m      5\u001b[39m \u001b[38;5;28;01mdef\u001b[39;00m\u001b[38;5;250m \u001b[39m\u001b[34mprepare_nutrition_documents\u001b[39m(csv_path: \u001b[38;5;28mstr\u001b[39m) -> Dict:\n",
      "\u001b[36mFile \u001b[39m\u001b[32m~/.local/lib/python3.13/site-packages/chromadb/__init__.py:100\u001b[39m\n\u001b[32m     98\u001b[39m             sys.modules[\u001b[33m\"\u001b[39m\u001b[33msqlite3\u001b[39m\u001b[33m\"\u001b[39m] = sys.modules.pop(\u001b[33m\"\u001b[39m\u001b[33mpysqlite3\u001b[39m\u001b[33m\"\u001b[39m)\n\u001b[32m     99\u001b[39m         \u001b[38;5;28;01melse\u001b[39;00m:\n\u001b[32m--> \u001b[39m\u001b[32m100\u001b[39m             \u001b[38;5;28;01mraise\u001b[39;00m \u001b[38;5;167;01mRuntimeError\u001b[39;00m(\n\u001b[32m    101\u001b[39m                 \u001b[33m\"\u001b[39m\u001b[38;5;130;01m\\033\u001b[39;00m\u001b[33m[91mYour system has an unsupported version of sqlite3. Chroma \u001b[39m\u001b[38;5;130;01m\\\u001b[39;00m\n\u001b[32m    102\u001b[39m \u001b[33m                    requires sqlite3 >= 3.35.0.\u001b[39m\u001b[38;5;130;01m\\033\u001b[39;00m\u001b[33m[0m\u001b[39m\u001b[38;5;130;01m\\n\u001b[39;00m\u001b[33m\"\u001b[39m\n\u001b[32m    103\u001b[39m                 \u001b[33m\"\u001b[39m\u001b[38;5;130;01m\\033\u001b[39;00m\u001b[33m[94mPlease visit \u001b[39m\u001b[38;5;130;01m\\\u001b[39;00m\n\u001b[32m    104\u001b[39m \u001b[33m                    https://docs.trychroma.com/troubleshooting#sqlite to learn how \u001b[39m\u001b[38;5;130;01m\\\u001b[39;00m\n\u001b[32m    105\u001b[39m \u001b[33m                    to upgrade.\u001b[39m\u001b[38;5;130;01m\\033\u001b[39;00m\u001b[33m[0m\u001b[39m\u001b[33m\"\u001b[39m\n\u001b[32m    106\u001b[39m             )\n\u001b[32m    109\u001b[39m \u001b[38;5;28;01mdef\u001b[39;00m\u001b[38;5;250m \u001b[39m\u001b[34mconfigure\u001b[39m(**kwargs) -> \u001b[38;5;28;01mNone\u001b[39;00m:  \u001b[38;5;66;03m# type: ignore\u001b[39;00m\n\u001b[32m    110\u001b[39m \u001b[38;5;250m    \u001b[39m\u001b[33;03m\"\"\"Override Chroma's default settings, environment variables or .env files\"\"\"\u001b[39;00m\n",
      "\u001b[31mRuntimeError\u001b[39m: \u001b[91mYour system has an unsupported version of sqlite3. Chroma                     requires sqlite3 >= 3.35.0.\u001b[0m\n\u001b[94mPlease visit                     https://docs.trychroma.com/troubleshooting#sqlite to learn how                     to upgrade.\u001b[0m"
     ]
    }
   ],
   "source": [
    "import pandas as pd\n",
    "import chromadb\n",
    "from typing import List, Dict\n",
    "\n",
    "def prepare_nutrition_documents(csv_path: str) -> Dict:\n",
    "    \"\"\"\n",
    "    Convert nutrition CSV into ChromaDB-ready documents.\n",
    "    Each food item becomes a searchable document.\n",
    "    \"\"\"\n",
    "    df = pd.read_csv(csv_path)\n",
    "    \n",
    "    documents = []\n",
    "    metadatas = []\n",
    "    ids = []\n",
    "    \n",
    "    for index, row in df.iterrows():\n",
    "        # Create rich document text for semantic search\n",
    "        document_text = f\"\"\"\n",
    "        Food: {row['FoodItem']}\n",
    "        Category: {row['FoodCategory']}\n",
    "        Nutritional Information:\n",
    "        - Calories: {row['Cals_per100grams']} per 100g\n",
    "        - Energy: {row['KJ_per100grams']} kJ per 100g\n",
    "        - Serving size reference: {row['per100grams']}\n",
    "        \n",
    "        This is a {row['FoodCategory'].lower()} food item that provides {row['Cals_per100grams']} calories per 100 grams.\n",
    "        \"\"\".strip()\n",
    "        \n",
    "        # Rich metadata for filtering and exact lookups\n",
    "        metadata = {\n",
    "            \"food_item\": row['FoodItem'].lower(),\n",
    "            \"food_category\": row['FoodCategory'].lower(),\n",
    "            \"calories_per_100g\": float(row['Cals_per100grams']) if pd.notna(row['Cals_per100grams']) else 0,\n",
    "            \"kj_per_100g\": float(row['KJ_per100grams']) if pd.notna(row['KJ_per100grams']) else 0,\n",
    "            \"serving_info\": row['per100grams'],\n",
    "            # Add searchable keywords\n",
    "            \"keywords\": f\"{row['FoodItem'].lower()} {row['FoodCategory'].lower()}\".replace(' ', '_')\n",
    "        }\n",
    "        \n",
    "        documents.append(document_text)\n",
    "        metadatas.append(metadata)\n",
    "        ids.append(f\"food_{index}\")\n",
    "    \n",
    "    return {\n",
    "        \"documents\": documents,\n",
    "        \"metadatas\": metadatas, \n",
    "        \"ids\": ids\n",
    "    }\n",
    "\n",
    "def setup_nutrition_chromadb(csv_path: str, collection_name: str = \"nutrition_db\"):\n",
    "    \"\"\"\n",
    "    Create and populate ChromaDB collection with nutrition data.\n",
    "    \"\"\"\n",
    "    # Initialize ChromaDB\n",
    "    client = chromadb.Client()\n",
    "    \n",
    "    # Create collection (delete if exists)\n",
    "    try:\n",
    "        client.delete_collection(collection_name)\n",
    "    except:\n",
    "        pass\n",
    "    \n",
    "    collection = client.create_collection(\n",
    "        name=collection_name,\n",
    "        metadata={\"description\": \"Nutrition database with calorie and food information\"}\n",
    "    )\n",
    "    \n",
    "    # Prepare documents\n",
    "    data = prepare_nutrition_documents(csv_path)\n",
    "    \n",
    "    # Add to ChromaDB\n",
    "    collection.add(\n",
    "        documents=data[\"documents\"],\n",
    "        metadatas=data[\"metadatas\"],\n",
    "        ids=data[\"ids\"]\n",
    "    )\n",
    "    \n",
    "    print(f\"Added {len(data['documents'])} food items to ChromaDB collection '{collection_name}'\")\n",
    "    return collection\n",
    "\n",
    "\n",
    "def nutrition_lookup_tool(query: str, collection, max_results: int = 3) -> str:\n",
    "    \"\"\"\n",
    "    Tool function that your nutrition agent can call.\n",
    "    \"\"\"\n",
    "    results = collection.query(\n",
    "        query_texts=[query],\n",
    "        n_results=max_results\n",
    "    )\n",
    "    \n",
    "    if not results['documents'][0]:\n",
    "        return f\"No nutrition information found for: {query}\"\n",
    "    \n",
    "    # Format results for the agent\n",
    "    formatted_results = []\n",
    "    for i, doc in enumerate(results['documents'][0]):\n",
    "        metadata = results['metadatas'][0][i]\n",
    "        food_item = metadata['food_item'].title()\n",
    "        calories = metadata['calories_per_100g']\n",
    "        category = metadata['food_category'].title()\n",
    "        \n",
    "        formatted_results.append(\n",
    "            f\"{food_item} ({category}): {calories} calories per 100g\"\n",
    "        )\n",
    "    \n",
    "    return \"Nutrition Information:\\n\" + \"\\n\".join(formatted_results)\n",
    "\n"
   ]
  },
  {
   "cell_type": "code",
   "execution_count": 1,
   "id": "a3b5fd0a",
   "metadata": {},
   "outputs": [
    {
     "ename": "NameError",
     "evalue": "name 'setup_nutrition_chromadb' is not defined",
     "output_type": "error",
     "traceback": [
      "\u001b[31m---------------------------------------------------------------------------\u001b[39m",
      "\u001b[31mNameError\u001b[39m                                 Traceback (most recent call last)",
      "\u001b[36mCell\u001b[39m\u001b[36m \u001b[39m\u001b[32mIn[1]\u001b[39m\u001b[32m, line 1\u001b[39m\n\u001b[32m----> \u001b[39m\u001b[32m1\u001b[39m collection = \u001b[43msetup_nutrition_chromadb\u001b[49m(\u001b[33m\"\u001b[39m\u001b[33mdata/calories.csv\u001b[39m\u001b[33m\"\u001b[39m)\n\u001b[32m      3\u001b[39m \u001b[38;5;66;03m# Run example queries\u001b[39;00m\n\u001b[32m      4\u001b[39m example_nutrition_queries(collection)\n",
      "\u001b[31mNameError\u001b[39m: name 'setup_nutrition_chromadb' is not defined"
     ]
    }
   ],
   "source": [
    "    collection = setup_nutrition_chromadb(\"data/calories.csv\")\n",
    "    \n",
    "    # Run example queries\n",
    "    example_nutrition_queries(collection)\n",
    "    \n",
    "    # Test the tool function\n",
    "    print(\"\\n=== TOOL FUNCTION EXAMPLES ===\\n\")\n",
    "    print(\"Query: 'apple calories'\")\n",
    "    print(nutrition_lookup_tool(\"apple calories\", collection))\n",
    "    \n",
    "    print(\"\\nQuery: 'high protein foods'\") \n",
    "    print(nutrition_lookup_tool(\"high protein foods\", collection))"
   ]
  },
  {
   "cell_type": "code",
   "execution_count": 5,
   "id": "1183d3f3",
   "metadata": {},
   "outputs": [],
   "source": [
    "import chromadb\n",
    "\n",
    "chroma_client = chromadb.PersistentClient()\n",
    "collection = chroma_client.create_collection(name=\"my_collection\")\n",
    "\n",
    "collection.add(\n",
    "    ids=[\"id1\", \"id2\"],\n",
    "    documents=[\n",
    "        \"This is a document about pineapple\",\n",
    "        \"This is a document about oranges\"\n",
    "    ]\n",
    ")"
   ]
  },
  {
   "cell_type": "code",
   "execution_count": 6,
   "id": "f69a2759",
   "metadata": {},
   "outputs": [
    {
     "name": "stdout",
     "output_type": "stream",
     "text": [
      "{'ids': [['id1', 'id2']], 'embeddings': None, 'documents': [['This is a document about pineapple', 'This is a document about oranges']], 'uris': None, 'included': ['metadatas', 'documents', 'distances'], 'data': None, 'metadatas': [[None, None]], 'distances': [[0.1824142336845398, 1.004446268081665]]}\n"
     ]
    }
   ],
   "source": [
    "results = collection.query(\n",
    "    query_texts=[\"This is a query document about pineapple\"], # Chroma will embed this for you\n",
    "    n_results=2 # how many results to return\n",
    ")\n",
    "print(results)"
   ]
  },
  {
   "cell_type": "code",
   "execution_count": null,
   "id": "80c448b3",
   "metadata": {},
   "outputs": [],
   "source": []
  }
 ],
 "metadata": {
  "kernelspec": {
   "display_name": "Python 3",
   "language": "python",
   "name": "python3"
  },
  "language_info": {
   "codemirror_mode": {
    "name": "ipython",
    "version": 3
   },
   "file_extension": ".py",
   "mimetype": "text/x-python",
   "name": "python",
   "nbconvert_exporter": "python",
   "pygments_lexer": "ipython3",
   "version": "3.13.5"
  }
 },
 "nbformat": 4,
 "nbformat_minor": 5
}
